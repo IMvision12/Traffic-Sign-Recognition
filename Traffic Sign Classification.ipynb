{
 "cells": [
  {
   "cell_type": "code",
   "execution_count": 1,
   "id": "de7e0fe4",
   "metadata": {},
   "outputs": [],
   "source": [
    "import numpy as np \n",
    "import pandas as pd\n",
    "import matplotlib.pyplot as plt\n",
    "import seaborn as sns\n",
    "import os\n",
    "import random\n",
    "\n",
    "from PIL import Image\n",
    "from sklearn.model_selection import train_test_split\n",
    "import tensorflow as tf\n",
    "from tensorflow.keras.layers import Conv2D,MaxPool2D,Dense\n",
    "from tensorflow.keras.layers import Flatten, Dropout\n",
    "from tensorflow.keras.models import Sequential,Model\n",
    "from tensorflow.keras.optimizers import Adam,RMSprop\n",
    "from tensorflow.keras.utils import to_categorical\n",
    "from tensorflow.keras.callbacks import EarlyStopping"
   ]
  },
  {
   "cell_type": "code",
   "execution_count": 2,
   "id": "7a5bcd8d",
   "metadata": {},
   "outputs": [],
   "source": [
    "Train_csv = \"Dataset/Train.csv\"\n",
    "Test_csv = \"Dataset/Test.csv\"\n",
    "Meta_csv = \"Dataset/Meta.csv\"\n",
    "\n",
    "Train_images = \"Dataset/Train\"\n",
    "Test_images = \"Dataset/Test\"\n",
    "Meta_images = \"Dataset/Meta\""
   ]
  },
  {
   "cell_type": "code",
   "execution_count": 3,
   "id": "0be63cc6",
   "metadata": {},
   "outputs": [
    {
     "name": "stdout",
     "output_type": "stream",
     "text": [
      "Total No of Images in label 0 are 210 Images\n",
      "Total No of Images in label 1 are 2220 Images\n",
      "Total No of Images in label 10 are 2010 Images\n",
      "Total No of Images in label 11 are 1320 Images\n",
      "Total No of Images in label 12 are 2100 Images\n",
      "Total No of Images in label 13 are 2160 Images\n",
      "Total No of Images in label 14 are 780 Images\n",
      "Total No of Images in label 15 are 630 Images\n",
      "Total No of Images in label 16 are 420 Images\n",
      "Total No of Images in label 17 are 1110 Images\n",
      "Total No of Images in label 18 are 1200 Images\n",
      "Total No of Images in label 19 are 210 Images\n",
      "Total No of Images in label 2 are 2250 Images\n",
      "Total No of Images in label 20 are 360 Images\n",
      "Total No of Images in label 21 are 330 Images\n",
      "Total No of Images in label 22 are 390 Images\n",
      "Total No of Images in label 23 are 510 Images\n",
      "Total No of Images in label 24 are 270 Images\n",
      "Total No of Images in label 25 are 1500 Images\n",
      "Total No of Images in label 26 are 600 Images\n",
      "Total No of Images in label 27 are 240 Images\n",
      "Total No of Images in label 28 are 540 Images\n",
      "Total No of Images in label 29 are 270 Images\n",
      "Total No of Images in label 3 are 1410 Images\n",
      "Total No of Images in label 30 are 450 Images\n",
      "Total No of Images in label 31 are 780 Images\n",
      "Total No of Images in label 32 are 240 Images\n",
      "Total No of Images in label 33 are 689 Images\n",
      "Total No of Images in label 34 are 420 Images\n",
      "Total No of Images in label 35 are 1200 Images\n",
      "Total No of Images in label 36 are 390 Images\n",
      "Total No of Images in label 37 are 210 Images\n",
      "Total No of Images in label 38 are 2070 Images\n",
      "Total No of Images in label 39 are 300 Images\n",
      "Total No of Images in label 4 are 1980 Images\n",
      "Total No of Images in label 40 are 360 Images\n",
      "Total No of Images in label 41 are 240 Images\n",
      "Total No of Images in label 42 are 240 Images\n",
      "Total No of Images in label 5 are 1860 Images\n",
      "Total No of Images in label 6 are 420 Images\n",
      "Total No of Images in label 7 are 1440 Images\n",
      "Total No of Images in label 8 are 1410 Images\n",
      "Total No of Images in label 9 are 1470 Images\n"
     ]
    }
   ],
   "source": [
    "for i in os.listdir(Train_images):\n",
    "    length = len(os.listdir(Train_images +'/'+ str(i)))\n",
    "    print(\"Total No of Images in label {} are {} Images\".format(i,length))"
   ]
  },
  {
   "cell_type": "code",
   "execution_count": 4,
   "id": "fac0a650",
   "metadata": {},
   "outputs": [
    {
     "name": "stdout",
     "output_type": "stream",
     "text": [
      "Total No of Test Images:  12631\n"
     ]
    }
   ],
   "source": [
    "print(\"Total No of Test Images: \",len(os.listdir(Test_images)))"
   ]
  },
  {
   "cell_type": "code",
   "execution_count": 5,
   "id": "e260ef49",
   "metadata": {},
   "outputs": [
    {
     "name": "stdout",
     "output_type": "stream",
     "text": [
      "Total No of Images in Meta 43\n"
     ]
    }
   ],
   "source": [
    "print(\"Total No of Images in Meta\",len(os.listdir(Meta_images)))"
   ]
  },
  {
   "cell_type": "code",
   "execution_count": 6,
   "id": "4778ae72",
   "metadata": {},
   "outputs": [
    {
     "data": {
      "text/html": [
       "<div>\n",
       "<style scoped>\n",
       "    .dataframe tbody tr th:only-of-type {\n",
       "        vertical-align: middle;\n",
       "    }\n",
       "\n",
       "    .dataframe tbody tr th {\n",
       "        vertical-align: top;\n",
       "    }\n",
       "\n",
       "    .dataframe thead th {\n",
       "        text-align: right;\n",
       "    }\n",
       "</style>\n",
       "<table border=\"1\" class=\"dataframe\">\n",
       "  <thead>\n",
       "    <tr style=\"text-align: right;\">\n",
       "      <th></th>\n",
       "      <th>Width</th>\n",
       "      <th>Height</th>\n",
       "      <th>Roi.X1</th>\n",
       "      <th>Roi.Y1</th>\n",
       "      <th>Roi.X2</th>\n",
       "      <th>Roi.Y2</th>\n",
       "      <th>ClassId</th>\n",
       "      <th>Path</th>\n",
       "    </tr>\n",
       "  </thead>\n",
       "  <tbody>\n",
       "    <tr>\n",
       "      <th>0</th>\n",
       "      <td>27</td>\n",
       "      <td>26</td>\n",
       "      <td>5</td>\n",
       "      <td>5</td>\n",
       "      <td>22</td>\n",
       "      <td>20</td>\n",
       "      <td>20</td>\n",
       "      <td>Train/20/00020_00000_00000.png</td>\n",
       "    </tr>\n",
       "    <tr>\n",
       "      <th>1</th>\n",
       "      <td>28</td>\n",
       "      <td>27</td>\n",
       "      <td>5</td>\n",
       "      <td>6</td>\n",
       "      <td>23</td>\n",
       "      <td>22</td>\n",
       "      <td>20</td>\n",
       "      <td>Train/20/00020_00000_00001.png</td>\n",
       "    </tr>\n",
       "    <tr>\n",
       "      <th>2</th>\n",
       "      <td>29</td>\n",
       "      <td>26</td>\n",
       "      <td>6</td>\n",
       "      <td>5</td>\n",
       "      <td>24</td>\n",
       "      <td>21</td>\n",
       "      <td>20</td>\n",
       "      <td>Train/20/00020_00000_00002.png</td>\n",
       "    </tr>\n",
       "    <tr>\n",
       "      <th>3</th>\n",
       "      <td>28</td>\n",
       "      <td>27</td>\n",
       "      <td>5</td>\n",
       "      <td>6</td>\n",
       "      <td>23</td>\n",
       "      <td>22</td>\n",
       "      <td>20</td>\n",
       "      <td>Train/20/00020_00000_00003.png</td>\n",
       "    </tr>\n",
       "    <tr>\n",
       "      <th>4</th>\n",
       "      <td>28</td>\n",
       "      <td>26</td>\n",
       "      <td>5</td>\n",
       "      <td>5</td>\n",
       "      <td>23</td>\n",
       "      <td>21</td>\n",
       "      <td>20</td>\n",
       "      <td>Train/20/00020_00000_00004.png</td>\n",
       "    </tr>\n",
       "  </tbody>\n",
       "</table>\n",
       "</div>"
      ],
      "text/plain": [
       "   Width  Height  Roi.X1  Roi.Y1  Roi.X2  Roi.Y2  ClassId  \\\n",
       "0     27      26       5       5      22      20       20   \n",
       "1     28      27       5       6      23      22       20   \n",
       "2     29      26       6       5      24      21       20   \n",
       "3     28      27       5       6      23      22       20   \n",
       "4     28      26       5       5      23      21       20   \n",
       "\n",
       "                             Path  \n",
       "0  Train/20/00020_00000_00000.png  \n",
       "1  Train/20/00020_00000_00001.png  \n",
       "2  Train/20/00020_00000_00002.png  \n",
       "3  Train/20/00020_00000_00003.png  \n",
       "4  Train/20/00020_00000_00004.png  "
      ]
     },
     "execution_count": 6,
     "metadata": {},
     "output_type": "execute_result"
    }
   ],
   "source": [
    "df_train = pd.read_csv(Train_csv)\n",
    "df_train.head()"
   ]
  },
  {
   "cell_type": "code",
   "execution_count": 7,
   "id": "3ba15e3a",
   "metadata": {},
   "outputs": [
    {
     "name": "stdout",
     "output_type": "stream",
     "text": [
      "Total Classes:  43\n"
     ]
    }
   ],
   "source": [
    "classes = len(df_train['ClassId'].unique())\n",
    "print(\"Total Classes: \",classes)"
   ]
  },
  {
   "cell_type": "code",
   "execution_count": 8,
   "id": "ec4473d1",
   "metadata": {},
   "outputs": [],
   "source": [
    "df_img = df_train.sample(frac=1)\n",
    "df_img = df_img.head()"
   ]
  },
  {
   "cell_type": "code",
   "execution_count": 9,
   "id": "6874fc5c",
   "metadata": {},
   "outputs": [
    {
     "data": {
      "text/html": [
       "<div>\n",
       "<style scoped>\n",
       "    .dataframe tbody tr th:only-of-type {\n",
       "        vertical-align: middle;\n",
       "    }\n",
       "\n",
       "    .dataframe tbody tr th {\n",
       "        vertical-align: top;\n",
       "    }\n",
       "\n",
       "    .dataframe thead th {\n",
       "        text-align: right;\n",
       "    }\n",
       "</style>\n",
       "<table border=\"1\" class=\"dataframe\">\n",
       "  <thead>\n",
       "    <tr style=\"text-align: right;\">\n",
       "      <th></th>\n",
       "      <th>Width</th>\n",
       "      <th>Height</th>\n",
       "      <th>Roi.X1</th>\n",
       "      <th>Roi.Y1</th>\n",
       "      <th>Roi.X2</th>\n",
       "      <th>Roi.Y2</th>\n",
       "      <th>ClassId</th>\n",
       "      <th>Path</th>\n",
       "    </tr>\n",
       "  </thead>\n",
       "  <tbody>\n",
       "    <tr>\n",
       "      <th>12653</th>\n",
       "      <td>48</td>\n",
       "      <td>50</td>\n",
       "      <td>6</td>\n",
       "      <td>5</td>\n",
       "      <td>43</td>\n",
       "      <td>45</td>\n",
       "      <td>8</td>\n",
       "      <td>Train/8/00008_00016_00023.png</td>\n",
       "    </tr>\n",
       "    <tr>\n",
       "      <th>31305</th>\n",
       "      <td>49</td>\n",
       "      <td>51</td>\n",
       "      <td>6</td>\n",
       "      <td>6</td>\n",
       "      <td>44</td>\n",
       "      <td>46</td>\n",
       "      <td>28</td>\n",
       "      <td>Train/28/00028_00016_00015.png</td>\n",
       "    </tr>\n",
       "    <tr>\n",
       "      <th>14543</th>\n",
       "      <td>63</td>\n",
       "      <td>63</td>\n",
       "      <td>6</td>\n",
       "      <td>6</td>\n",
       "      <td>58</td>\n",
       "      <td>58</td>\n",
       "      <td>9</td>\n",
       "      <td>Train/9/00009_00032_00023.png</td>\n",
       "    </tr>\n",
       "    <tr>\n",
       "      <th>34421</th>\n",
       "      <td>36</td>\n",
       "      <td>36</td>\n",
       "      <td>6</td>\n",
       "      <td>6</td>\n",
       "      <td>31</td>\n",
       "      <td>31</td>\n",
       "      <td>35</td>\n",
       "      <td>Train/35/00035_00007_00012.png</td>\n",
       "    </tr>\n",
       "    <tr>\n",
       "      <th>34560</th>\n",
       "      <td>33</td>\n",
       "      <td>34</td>\n",
       "      <td>6</td>\n",
       "      <td>6</td>\n",
       "      <td>28</td>\n",
       "      <td>29</td>\n",
       "      <td>35</td>\n",
       "      <td>Train/35/00035_00012_00001.png</td>\n",
       "    </tr>\n",
       "  </tbody>\n",
       "</table>\n",
       "</div>"
      ],
      "text/plain": [
       "       Width  Height  Roi.X1  Roi.Y1  Roi.X2  Roi.Y2  ClassId  \\\n",
       "12653     48      50       6       5      43      45        8   \n",
       "31305     49      51       6       6      44      46       28   \n",
       "14543     63      63       6       6      58      58        9   \n",
       "34421     36      36       6       6      31      31       35   \n",
       "34560     33      34       6       6      28      29       35   \n",
       "\n",
       "                                 Path  \n",
       "12653   Train/8/00008_00016_00023.png  \n",
       "31305  Train/28/00028_00016_00015.png  \n",
       "14543   Train/9/00009_00032_00023.png  \n",
       "34421  Train/35/00035_00007_00012.png  \n",
       "34560  Train/35/00035_00012_00001.png  "
      ]
     },
     "execution_count": 9,
     "metadata": {},
     "output_type": "execute_result"
    }
   ],
   "source": [
    "df_img"
   ]
  },
  {
   "cell_type": "code",
   "execution_count": 10,
   "id": "075b1e2c",
   "metadata": {},
   "outputs": [
    {
     "data": {
      "image/png": "[encoded data removed]",
      "text/plain": [
       "<Figure size 1152x648 with 5 Axes>"
      ]
     },
     "metadata": {
      "needs_background": "light"
     },
     "output_type": "display_data"
    }
   ],
   "source": [
    "plt.figure(figsize=(16,9))\n",
    "for i in range(5):\n",
    "    plt.subplot(2,5,i+1)\n",
    "    img = plt.imread(\"Dataset/\"+df_img.iloc[i][7])\n",
    "    plt.title(df_img.iloc[i][6])\n",
    "    plt.imshow(img)"
   ]
  },
  {
   "cell_type": "code",
   "execution_count": 11,
   "id": "cec6230a",
   "metadata": {},
   "outputs": [
    {
     "data": {
      "text/plain": [
       "'Dataset/Train/0'"
      ]
     },
     "execution_count": 11,
     "metadata": {},
     "output_type": "execute_result"
    }
   ],
   "source": [
    "Train_images +\"/\"+ \"0\""
   ]
  },
  {
   "cell_type": "code",
   "execution_count": 12,
   "id": "2366b393",
   "metadata": {},
   "outputs": [],
   "source": [
    "labels= []\n",
    "data = []\n",
    "for i in range(classes):\n",
    "    path = Train_images +\"/\"+ str(i)\n",
    "    images = os.listdir(path)\n",
    "    for a in images:\n",
    "        try:\n",
    "            image = Image.open(path+\"/\"+a)\n",
    "            image = image.resize((30,30))\n",
    "            image = np.array(image)\n",
    "            data.append(image)\n",
    "            labels.append(i)\n",
    "        except Exception as e:\n",
    "            print(e)"
   ]
  },
  {
   "cell_type": "code",
   "execution_count": 13,
   "id": "353f836a",
   "metadata": {},
   "outputs": [],
   "source": [
    "data = np.array(data)\n",
    "labels = np.array(labels)"
   ]
  },
  {
   "cell_type": "code",
   "execution_count": 14,
   "id": "1812cbe4",
   "metadata": {},
   "outputs": [],
   "source": [
    "np.save(\"Data\",data)\n",
    "np.save(\"Target\",labels)"
   ]
  },
  {
   "cell_type": "code",
   "execution_count": 15,
   "id": "e5fc7148",
   "metadata": {},
   "outputs": [],
   "source": [
    "X_train,X_test,y_train,y_test = train_test_split(data,labels,\n",
    "                                                 test_size=0.2,\n",
    "                                                random_state=0)"
   ]
  },
  {
   "cell_type": "code",
   "execution_count": 16,
   "id": "2b9079bb",
   "metadata": {},
   "outputs": [
    {
     "data": {
      "text/plain": [
       "(31367,)"
      ]
     },
     "execution_count": 16,
     "metadata": {},
     "output_type": "execute_result"
    }
   ],
   "source": [
    "y_train.shape"
   ]
  },
  {
   "cell_type": "code",
   "execution_count": 17,
   "id": "cc7ad242",
   "metadata": {},
   "outputs": [
    {
     "data": {
      "text/plain": [
       "(7842, 30, 30, 3)"
      ]
     },
     "execution_count": 17,
     "metadata": {},
     "output_type": "execute_result"
    }
   ],
   "source": [
    "X_test.shape"
   ]
  },
  {
   "cell_type": "code",
   "execution_count": 18,
   "id": "29e864ba",
   "metadata": {},
   "outputs": [
    {
     "data": {
      "text/plain": [
       "(31367, 30, 30, 3)"
      ]
     },
     "execution_count": 18,
     "metadata": {},
     "output_type": "execute_result"
    }
   ],
   "source": [
    "X_train.shape"
   ]
  },
  {
   "cell_type": "code",
   "execution_count": 19,
   "id": "b38d1dcc",
   "metadata": {},
   "outputs": [],
   "source": [
    "y_train = to_categorical(y_train,43)\n",
    "y_test = to_categorical(y_test,43)"
   ]
  },
  {
   "cell_type": "code",
   "execution_count": 20,
   "id": "62092ffd",
   "metadata": {},
   "outputs": [],
   "source": [
    "es = EarlyStopping(monitor='accuracy', mode='auto', verbose=1, patience=5, min_delta=0.01)"
   ]
  },
  {
   "cell_type": "code",
   "execution_count": 21,
   "id": "c281397a",
   "metadata": {},
   "outputs": [],
   "source": [
    "model = Sequential([\n",
    "    Conv2D(filters=32,kernel_size=(5,5),activation='relu',input_shape=(30,30,3)),\n",
    "    Conv2D(filters=32,kernel_size=(5,5),activation='relu'),\n",
    "    MaxPool2D(pool_size=(2,2)),\n",
    "    Dropout(0.25),\n",
    "    Conv2D(filters=64,kernel_size=(3,3),activation='relu'),\n",
    "    Conv2D(filters=64,kernel_size=(3,3),activation='relu'),\n",
    "    MaxPool2D(pool_size=(2,2)),\n",
    "    Dropout(0.25),\n",
    "    Flatten(),\n",
    "    Dense(256,activation='relu'),\n",
    "    Dropout(0.25),\n",
    "    Dense(43,activation='softmax')\n",
    "])"
   ]
  },
  {
   "cell_type": "code",
   "execution_count": 22,
   "id": "9c7fcfc6",
   "metadata": {},
   "outputs": [],
   "source": [
    "model.compile(optimizer='adam',loss='categorical_crossentropy',\n",
    "              metrics=['accuracy'])"
   ]
  },
  {
   "cell_type": "code",
   "execution_count": 23,
   "id": "8eff14e8",
   "metadata": {},
   "outputs": [
    {
     "name": "stdout",
     "output_type": "stream",
     "text": [
      "Epoch 1/50\n",
      "981/981 [==============================] - 22s 17ms/step - loss: 1.8018 - accuracy: 0.5332 - val_loss: 0.4815 - val_accuracy: 0.8699\n",
      "Epoch 2/50\n",
      "981/981 [==============================] - 16s 16ms/step - loss: 0.5547 - accuracy: 0.8363 - val_loss: 0.2153 - val_accuracy: 0.9374\n",
      "Epoch 3/50\n",
      "981/981 [==============================] - 13s 14ms/step - loss: 0.3350 - accuracy: 0.9028 - val_loss: 0.1130 - val_accuracy: 0.9674\n",
      "Epoch 4/50\n",
      "981/981 [==============================] - 13s 13ms/step - loss: 0.2331 - accuracy: 0.9332 - val_loss: 0.0938 - val_accuracy: 0.9756\n",
      "Epoch 5/50\n",
      "981/981 [==============================] - 13s 13ms/step - loss: 0.2088 - accuracy: 0.9429 - val_loss: 0.0729 - val_accuracy: 0.9792\n",
      "Epoch 6/50\n",
      "981/981 [==============================] - 13s 13ms/step - loss: 0.1765 - accuracy: 0.9507 - val_loss: 0.0754 - val_accuracy: 0.9804\n",
      "Epoch 7/50\n",
      "981/981 [==============================] - 12s 13ms/step - loss: 0.1499 - accuracy: 0.9600 - val_loss: 0.1319 - val_accuracy: 0.9643\n",
      "Epoch 8/50\n",
      "981/981 [==============================] - 13s 13ms/step - loss: 0.1512 - accuracy: 0.9588 - val_loss: 0.0712 - val_accuracy: 0.9832\n",
      "Epoch 9/50\n",
      "981/981 [==============================] - 13s 13ms/step - loss: 0.1605 - accuracy: 0.9589 - val_loss: 0.0509 - val_accuracy: 0.9865\n",
      "Epoch 10/50\n",
      "981/981 [==============================] - 13s 13ms/step - loss: 0.1551 - accuracy: 0.9610 - val_loss: 0.0945 - val_accuracy: 0.9778\n",
      "Epoch 11/50\n",
      "981/981 [==============================] - 13s 13ms/step - loss: 0.1193 - accuracy: 0.9685 - val_loss: 0.0721 - val_accuracy: 0.9830\n",
      "Epoch 12/50\n",
      "981/981 [==============================] - 13s 13ms/step - loss: 0.1449 - accuracy: 0.9643 - val_loss: 0.0659 - val_accuracy: 0.9820\n",
      "Epoch 13/50\n",
      "981/981 [==============================] - 13s 13ms/step - loss: 0.1439 - accuracy: 0.9643 - val_loss: 0.0833 - val_accuracy: 0.9773\n",
      "Epoch 14/50\n",
      "981/981 [==============================] - 12s 13ms/step - loss: 0.1435 - accuracy: 0.9656 - val_loss: 0.0388 - val_accuracy: 0.9904\n",
      "Epoch 15/50\n",
      "981/981 [==============================] - 13s 13ms/step - loss: 0.1318 - accuracy: 0.9678 - val_loss: 0.0562 - val_accuracy: 0.9889\n",
      "Epoch 00015: early stopping\n"
     ]
    }
   ],
   "source": [
    "history = model.fit(X_train,y_train,epochs=50,\n",
    "              validation_data=(X_test,y_test),callbacks=[es])"
   ]
  },
  {
   "cell_type": "code",
   "execution_count": 24,
   "id": "010f921a",
   "metadata": {},
   "outputs": [
    {
     "data": {
      "image/png": "[encoded data removed]",
      "text/plain": [
       "<Figure size 432x288 with 1 Axes>"
      ]
     },
     "metadata": {
      "needs_background": "light"
     },
     "output_type": "display_data"
    },
    {
     "data": {
      "image/png": "[encoded data removed]",
      "text/plain": [
       "<Figure size 432x288 with 1 Axes>"
      ]
     },
     "metadata": {
      "needs_background": "light"
     },
     "output_type": "display_data"
    }
   ],
   "source": [
    "#Training\n",
    "plt.plot(history.history['accuracy'])\n",
    "plt.plot(history.history['val_accuracy'])\n",
    "plt.title(\"Model Accuracy\")\n",
    "plt.ylabel(\"Accuracy\")\n",
    "plt.xlabel(\"Epoch\")\n",
    "plt.legend(['Train','Test'],loc='upper left')\n",
    "plt.show()\n",
    "#Loss\n",
    "plt.plot(history.history['loss'])\n",
    "plt.plot(history.history['val_loss'])\n",
    "plt.title(\"Model Loss\")\n",
    "plt.ylabel(\"Loss\")\n",
    "plt.xlabel(\"Epoch\")\n",
    "plt.legend(['Train','Test'],loc='upper left')\n",
    "plt.show()"
   ]
  },
  {
   "cell_type": "code",
   "execution_count": 26,
   "id": "55ba4405",
   "metadata": {},
   "outputs": [],
   "source": [
    "model.save(\"Mymodel.h5\")"
   ]
  },
  {
   "cell_type": "code",
   "execution_count": 25,
   "id": "d3bcba71",
   "metadata": {},
   "outputs": [
    {
     "name": "stdout",
     "output_type": "stream",
     "text": [
      "INFO:tensorflow:Assets written to: ./saved_model/assets\n"
     ]
    }
   ],
   "source": [
    "model.save(\"./saved_model/\")"
   ]
  },
  {
   "cell_type": "markdown",
   "id": "dbac3fb6",
   "metadata": {},
   "source": [
    "# Converting to tflite"
   ]
  },
  {
   "cell_type": "markdown",
   "id": "37001681",
   "metadata": {},
   "source": [
    "## without quantization"
   ]
  },
  {
   "cell_type": "code",
   "execution_count": 27,
   "id": "5f3021d6",
   "metadata": {},
   "outputs": [],
   "source": [
    "converter = tf.lite.TFLiteConverter.from_saved_model(\"./saved_model\")\n",
    "tflite_model = converter.convert()"
   ]
  },
  {
   "cell_type": "code",
   "execution_count": 28,
   "id": "6ebff248",
   "metadata": {},
   "outputs": [
    {
     "data": {
      "text/plain": [
       "973168"
      ]
     },
     "execution_count": 28,
     "metadata": {},
     "output_type": "execute_result"
    }
   ],
   "source": [
    "len(tflite_model)"
   ]
  },
  {
   "cell_type": "markdown",
   "id": "2c90f0ee",
   "metadata": {},
   "source": [
    "## With quantization¶\n"
   ]
  },
  {
   "cell_type": "code",
   "execution_count": 29,
   "id": "e80f2c21",
   "metadata": {},
   "outputs": [],
   "source": [
    "converter = tf.lite.TFLiteConverter.from_saved_model(\"./saved_model\")\n",
    "converter.optimizations = [tf.lite.Optimize.DEFAULT]\n",
    "tflite_quant_model = converter.convert()"
   ]
  },
  {
   "cell_type": "code",
   "execution_count": 30,
   "id": "b7122496",
   "metadata": {},
   "outputs": [
    {
     "data": {
      "text/plain": [
       "252224"
      ]
     },
     "execution_count": 30,
     "metadata": {},
     "output_type": "execute_result"
    }
   ],
   "source": [
    "len(tflite_quant_model)"
   ]
  },
  {
   "cell_type": "code",
   "execution_count": 31,
   "id": "408c0c45",
   "metadata": {},
   "outputs": [],
   "source": [
    "with open(\"tflite_model.tflite\", \"wb\") as f:\n",
    "    f.write(tflite_model)"
   ]
  },
  {
   "cell_type": "code",
   "execution_count": 32,
   "id": "80128c20",
   "metadata": {},
   "outputs": [],
   "source": [
    "with open(\"tflite_quant_model.tflite\", \"wb\") as f:\n",
    "    f.write(tflite_quant_model)"
   ]
  },
  {
   "cell_type": "markdown",
   "id": "c8ca3d18",
   "metadata": {},
   "source": [
    "## Predicting Some Images"
   ]
  },
  {
   "cell_type": "code",
   "execution_count": 39,
   "id": "89e9be60",
   "metadata": {},
   "outputs": [
    {
     "data": {
      "text/html": [
       "<div>\n",
       "<style scoped>\n",
       "    .dataframe tbody tr th:only-of-type {\n",
       "        vertical-align: middle;\n",
       "    }\n",
       "\n",
       "    .dataframe tbody tr th {\n",
       "        vertical-align: top;\n",
       "    }\n",
       "\n",
       "    .dataframe thead th {\n",
       "        text-align: right;\n",
       "    }\n",
       "</style>\n",
       "<table border=\"1\" class=\"dataframe\">\n",
       "  <thead>\n",
       "    <tr style=\"text-align: right;\">\n",
       "      <th></th>\n",
       "      <th>Width</th>\n",
       "      <th>Height</th>\n",
       "      <th>Roi.X1</th>\n",
       "      <th>Roi.Y1</th>\n",
       "      <th>Roi.X2</th>\n",
       "      <th>Roi.Y2</th>\n",
       "      <th>ClassId</th>\n",
       "      <th>Path</th>\n",
       "    </tr>\n",
       "  </thead>\n",
       "  <tbody>\n",
       "    <tr>\n",
       "      <th>0</th>\n",
       "      <td>53</td>\n",
       "      <td>54</td>\n",
       "      <td>6</td>\n",
       "      <td>5</td>\n",
       "      <td>48</td>\n",
       "      <td>49</td>\n",
       "      <td>16</td>\n",
       "      <td>Test/00000.png</td>\n",
       "    </tr>\n",
       "    <tr>\n",
       "      <th>1</th>\n",
       "      <td>42</td>\n",
       "      <td>45</td>\n",
       "      <td>5</td>\n",
       "      <td>5</td>\n",
       "      <td>36</td>\n",
       "      <td>40</td>\n",
       "      <td>1</td>\n",
       "      <td>Test/00001.png</td>\n",
       "    </tr>\n",
       "    <tr>\n",
       "      <th>2</th>\n",
       "      <td>48</td>\n",
       "      <td>52</td>\n",
       "      <td>6</td>\n",
       "      <td>6</td>\n",
       "      <td>43</td>\n",
       "      <td>47</td>\n",
       "      <td>38</td>\n",
       "      <td>Test/00002.png</td>\n",
       "    </tr>\n",
       "    <tr>\n",
       "      <th>3</th>\n",
       "      <td>27</td>\n",
       "      <td>29</td>\n",
       "      <td>5</td>\n",
       "      <td>5</td>\n",
       "      <td>22</td>\n",
       "      <td>24</td>\n",
       "      <td>33</td>\n",
       "      <td>Test/00003.png</td>\n",
       "    </tr>\n",
       "    <tr>\n",
       "      <th>4</th>\n",
       "      <td>60</td>\n",
       "      <td>57</td>\n",
       "      <td>5</td>\n",
       "      <td>5</td>\n",
       "      <td>55</td>\n",
       "      <td>52</td>\n",
       "      <td>11</td>\n",
       "      <td>Test/00004.png</td>\n",
       "    </tr>\n",
       "  </tbody>\n",
       "</table>\n",
       "</div>"
      ],
      "text/plain": [
       "   Width  Height  Roi.X1  Roi.Y1  Roi.X2  Roi.Y2  ClassId            Path\n",
       "0     53      54       6       5      48      49       16  Test/00000.png\n",
       "1     42      45       5       5      36      40        1  Test/00001.png\n",
       "2     48      52       6       6      43      47       38  Test/00002.png\n",
       "3     27      29       5       5      22      24       33  Test/00003.png\n",
       "4     60      57       5       5      55      52       11  Test/00004.png"
      ]
     },
     "execution_count": 39,
     "metadata": {},
     "output_type": "execute_result"
    }
   ],
   "source": [
    "df_test = pd.read_csv(Test_csv)\n",
    "df_test.head()"
   ]
  },
  {
   "cell_type": "code",
   "execution_count": 42,
   "id": "69e6f1f9",
   "metadata": {},
   "outputs": [
    {
     "data": {
      "text/html": [
       "<div>\n",
       "<style scoped>\n",
       "    .dataframe tbody tr th:only-of-type {\n",
       "        vertical-align: middle;\n",
       "    }\n",
       "\n",
       "    .dataframe tbody tr th {\n",
       "        vertical-align: top;\n",
       "    }\n",
       "\n",
       "    .dataframe thead th {\n",
       "        text-align: right;\n",
       "    }\n",
       "</style>\n",
       "<table border=\"1\" class=\"dataframe\">\n",
       "  <thead>\n",
       "    <tr style=\"text-align: right;\">\n",
       "      <th></th>\n",
       "      <th>Width</th>\n",
       "      <th>Height</th>\n",
       "      <th>Roi.X1</th>\n",
       "      <th>Roi.Y1</th>\n",
       "      <th>Roi.X2</th>\n",
       "      <th>Roi.Y2</th>\n",
       "      <th>ClassId</th>\n",
       "      <th>Path</th>\n",
       "    </tr>\n",
       "  </thead>\n",
       "  <tbody>\n",
       "    <tr>\n",
       "      <th>0</th>\n",
       "      <td>53</td>\n",
       "      <td>54</td>\n",
       "      <td>6</td>\n",
       "      <td>5</td>\n",
       "      <td>48</td>\n",
       "      <td>49</td>\n",
       "      <td>16</td>\n",
       "      <td>Dataset/Test/00000.png</td>\n",
       "    </tr>\n",
       "    <tr>\n",
       "      <th>1</th>\n",
       "      <td>42</td>\n",
       "      <td>45</td>\n",
       "      <td>5</td>\n",
       "      <td>5</td>\n",
       "      <td>36</td>\n",
       "      <td>40</td>\n",
       "      <td>1</td>\n",
       "      <td>Dataset/Test/00001.png</td>\n",
       "    </tr>\n",
       "  </tbody>\n",
       "</table>\n",
       "</div>"
      ],
      "text/plain": [
       "   Width  Height  Roi.X1  Roi.Y1  Roi.X2  Roi.Y2  ClassId  \\\n",
       "0     53      54       6       5      48      49       16   \n",
       "1     42      45       5       5      36      40        1   \n",
       "\n",
       "                     Path  \n",
       "0  Dataset/Test/00000.png  \n",
       "1  Dataset/Test/00001.png  "
      ]
     },
     "execution_count": 42,
     "metadata": {},
     "output_type": "execute_result"
    }
   ],
   "source": [
    "df_test['Path'] = 'Dataset/'+df_test['Path']\n",
    "df_test.head(2)"
   ]
  },
  {
   "cell_type": "code",
   "execution_count": 52,
   "id": "c790d313",
   "metadata": {},
   "outputs": [],
   "source": [
    "def testimg(testcsv):\n",
    "    y_test = testcsv\n",
    "    label = y_test['ClassId'].values\n",
    "    imgs = y_test['Path'].values\n",
    "    data=[]\n",
    "    for img in imgs:\n",
    "        image = Image.open(img)\n",
    "        image = image.resize((30,30))\n",
    "        data.append(np.array(image))\n",
    "    X_test = np.array(data)\n",
    "    return X_test,label"
   ]
  },
  {
   "cell_type": "code",
   "execution_count": 54,
   "id": "437775f1",
   "metadata": {},
   "outputs": [],
   "source": [
    "X_test,label = testimg(df_test)"
   ]
  },
  {
   "cell_type": "code",
   "execution_count": 55,
   "id": "1b312efc",
   "metadata": {},
   "outputs": [
    {
     "name": "stderr",
     "output_type": "stream",
     "text": [
      "C:\\Users\\Gitesh\\AppData\\Roaming\\Python\\Python38\\site-packages\\tensorflow\\python\\keras\\engine\\sequential.py:455: UserWarning: `model.predict_classes()` is deprecated and will be removed after 2021-01-01. Please use instead:* `np.argmax(model.predict(x), axis=-1)`,   if your model does multi-class classification   (e.g. if it uses a `softmax` last-layer activation).* `(model.predict(x) > 0.5).astype(\"int32\")`,   if your model does binary classification   (e.g. if it uses a `sigmoid` last-layer activation).\n",
      "  warnings.warn('`model.predict_classes()` is deprecated and '\n"
     ]
    },
    {
     "data": {
      "text/plain": [
       "array([16,  1, 38, ...,  6,  7, 10], dtype=int64)"
      ]
     },
     "execution_count": 55,
     "metadata": {},
     "output_type": "execute_result"
    }
   ],
   "source": [
    "y_pred = model.predict_classes(X_test)\n",
    "y_pred"
   ]
  },
  {
   "cell_type": "code",
   "execution_count": 57,
   "id": "abd57faa",
   "metadata": {},
   "outputs": [
    {
     "data": {
      "text/plain": [
       "0.956769596199525"
      ]
     },
     "execution_count": 57,
     "metadata": {},
     "output_type": "execute_result"
    }
   ],
   "source": [
    "from sklearn.metrics import accuracy_score\n",
    "accuracy_score(label,y_pred)"
   ]
  },
  {
   "cell_type": "code",
   "execution_count": 62,
   "id": "f73976aa",
   "metadata": {},
   "outputs": [
    {
     "data": {
      "text/plain": [
       "16"
      ]
     },
     "execution_count": 62,
     "metadata": {},
     "output_type": "execute_result"
    }
   ],
   "source": [
    "label[0]"
   ]
  },
  {
   "cell_type": "code",
   "execution_count": 67,
   "id": "94f3ce33",
   "metadata": {},
   "outputs": [
    {
     "data": {
      "image/png": "[encoded data removed]",
      "text/plain": [
       "<Figure size 1152x648 with 5 Axes>"
      ]
     },
     "metadata": {
      "needs_background": "light"
     },
     "output_type": "display_data"
    }
   ],
   "source": [
    "plt.figure(figsize=(16,9))\n",
    "for i in range(5):\n",
    "    plt.subplot(2,5,i+1)\n",
    "    img = Image.fromarray(X_test[i])\n",
    "    plt.imshow(img)\n",
    "    plt.title(label[i])\n",
    "    plt.xlabel(y_pred[i])"
   ]
  }
 ],
 "metadata": {
  "kernelspec": {
   "display_name": "Python 3",
   "language": "python",
   "name": "python3"
  },
  "language_info": {
   "codemirror_mode": {
    "name": "ipython",
    "version": 3
   },
   "file_extension": ".py",
   "mimetype": "text/x-python",
   "name": "python",
   "nbconvert_exporter": "python",
   "pygments_lexer": "ipython3",
   "version": "3.8.10"
  }
 },
 "nbformat": 4,
 "nbformat_minor": 5
}
